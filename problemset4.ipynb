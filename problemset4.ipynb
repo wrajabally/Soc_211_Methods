{
 "cells": [
  {
   "cell_type": "markdown",
   "metadata": {},
   "source": [
    "# Problem set 4\n",
    "\n",
    "\n",
    "[your name]\n",
    "\n",
    "[working title of the project] \n",
    "\n",
    "[date]"
   ]
  },
  {
   "cell_type": "markdown",
   "metadata": {},
   "source": [
    "## 1. Visually assess heteroscedasticity [1 pt]\n",
    "\n",
    "    A. Create a scatterplot of a dependent variable and independent variable of interest from a dataset of your choice.\n",
    "    \n",
    "    B. Include a fitted line with an area graph of the confidence interval for the prediction.\n",
    "    \n",
    "    C. Write a couple sentences describing how the distribution of the data in the graph does or does not appear to be heteroscedastic.\n",
    "    \n",
    "    Based on the scatterplot the distribution does not appear to be heteroscedastic and are evenly distributing, meaning that the standard errors will likely be evenly distributed as well."
   ]
  },
  {
   "cell_type": "code",
   "execution_count": null,
   "metadata": {},
   "outputs": [],
   "source": [
    "%set graph_format svg "
   ]
  },
  {
   "cell_type": "code",
   "execution_count": 7,
   "metadata": {},
   "outputs": [
    {
     "name": "stdout",
     "output_type": "stream",
     "text": [
      "\n",
      "\n",
      "\n",
      "variable state_party already defined\n"
     ]
    },
    {
     "name": "stderr",
     "output_type": "stream",
     "text": [
      "r(110);\n",
      "r(110);\n"
     ]
    },
    {
     "name": "stdout",
     "output_type": "stream",
     "text": [
      "\n",
      "\n"
     ]
    }
   ],
   "source": [
    "clear\n",
    "quietly use \"/Users/waleed/Documents/Waleed-Soc211/MoveinVariable_SanJose2_datafile.dta\"\n",
    "quietly keep if year==2012\n",
    "quietly keep if substr(string(puma), 1, 1) == \"6\"\n",
    "\n"
   ]
  },
  {
   "cell_type": "code",
   "execution_count": 9,
   "metadata": {},
   "outputs": [
    {
     "name": "stdout",
     "output_type": "stream",
     "text": [
      "variable movedin not found\n",
      "\n"
     ]
    }
   ],
   "source": [
    "tw (scatter movedin poverty) ///\n",
    "(lfitci movedin poverty),  ///\n",
    "ytitle(Number of years resided in the area, size(large)) ///\n",
    "xtitle(Poverty Level,size(large)) legend(off) scheme(538w) ///\n",
    "title(\"How does variance in Y change as X increases?\" \" \", span size(large)) ///\n",
    "aspect(1, place(west))"
   ]
  },
  {
   "cell_type": "markdown",
   "metadata": {},
   "source": [
    "## 2. Test for heteroscedasticity [1 pt]\n",
    "\n",
    "    A. Do a Breusch-Pagan postestimation test for heteroscedasticity in your dependent variable and independent variable relationship.\n",
    "\n",
    "    B. Reestimate the regression after logging the DV or IV if appropriate and do another Breusch-Pagan test. Does logging reduce heteroscedasticity?\n",
    "    \n",
    "    After running the postestimiation test and logging both the DV and IV, my chisquared value remains very high at 750.15 and 430.56, and P values that are less than .001, which means that there is heteroscedasticity in my data."
   ]
  },
  {
   "cell_type": "code",
   "execution_count": null,
   "metadata": {},
   "outputs": [],
   "source": []
  },
  {
   "cell_type": "code",
   "execution_count": null,
   "metadata": {},
   "outputs": [],
   "source": [
    "quietly regress total_enrollment chain\n",
    "estat hettest \n",
    "\n",
    "gen total_enrollmentln=log(total_enrollment)\n",
    "quietly regress total_enrollmentln chain\n",
    "estat hettest"
   ]
  },
  {
   "cell_type": "markdown",
   "metadata": {},
   "source": [
    "## 3. Boot strap your standard errors [1 pt.]\n",
    "\n",
    "    A. Quietly reestimate your regression coefficient with convential OLS and store the results.\n",
    "    \n",
    "    B. Quietly reestimate your regression with bootstrapped standard errors and store the results.\n",
    "    \n",
    "    C. Use esttab to output the results of the two models and tell us how the bootstrap standard erros differ from the conventional results.\n",
    "    \n",
    "    D. Explain in your own words what the bootstrap procedure is doing and why it yields similar or different standard errors to the convential model.\n",
    "    \n",
    "The resutls from the bootstrap procedure show that my standard errors have reduced significantly to .0000594, which shows a more even distribution of standard errors after repeating the regression 1000 times.  This value is a closer proximation to the population parameter, and shows that there is no hererskedasticity in the data, when repeated with replacement."
   ]
  },
  {
   "cell_type": "code",
   "execution_count": null,
   "metadata": {},
   "outputs": [],
   "source": [
    "quietly reg total_enrollment chain\n",
    "quietly eststo\n",
    "quietly bootstrap _b[fed_grant_pct_w] , rep(1000) nodots : ///\n",
    "   reg loan_amount_borrower_c_w fed_grant_pct_w\n",
    "quietly eststo"
   ]
  },
  {
   "cell_type": "code",
   "execution_count": null,
   "metadata": {},
   "outputs": [],
   "source": []
  },
  {
   "cell_type": "markdown",
   "metadata": {},
   "source": [
    "## 4. Estimate robust standard errors [1 pt]\n",
    "\n",
    "    A. Reestimate your model with robust standard errors and store the results.\n",
    "    \n",
    "    B. Use esttab to output the results of the robust model alongside the conventional and bootstrap models and explain how the the results compare in 1 or 2 sentences.\n",
    "    \n",
    "    C. In your own words, explain how the robust standard errors procedure differs from conventional procedures.\n",
    "    \n",
    "    The bootstrap and robust models produced similar standard errors.  The robust standard error produced similar results even though it only ran once, because it is not assuming that my model is homoskedastic and is taking into account the variance of standard errors in my model, giving more weight to larger variances and less weight to smaller ones. "
   ]
  },
  {
   "cell_type": "code",
   "execution_count": null,
   "metadata": {},
   "outputs": [],
   "source": [
    "[code here]"
   ]
  },
  {
   "cell_type": "markdown",
   "metadata": {},
   "source": [
    "## 5. Cluster robust standard errors [1 pt]\n",
    "\n",
    "    A. Explain why or why not your model should be estimated with cluster robust standard errors. If yes, what is the clustering unit and why?\n",
    "    \n",
    "    B. If yes, reestimate your model with cluster robust standard errors and use esttab to output the results of the robust model alongside your other models and explain how the the results compare in 1 or 2 sentences.\n",
    "    \n",
    "    C. Write a couple sentences explaining what is the best method of standard error estimation for your models and why.\n",
    "    \n",
    "    My model should be clustered because each case in my data is divided up into different pumas in California.  So therefore applying robust standard errors in each puma may provide a more equal variance of standard errors.  When I ran it, the clustered standard error actually increased from .0000594 to .0001281.  The clustering may have increased the standard error because the rate of in-migration (measured by moving in) varies depending on which puma, and is not equally distributed. However the standard error is still very low.  Based on this I believe that the cluster robust model is the best to use because we achieve a low standard error and still are able to take into account the effect of the pumas."
   ]
  },
  {
   "cell_type": "markdown",
   "metadata": {},
   "source": [
    "[code here]"
   ]
  }
 ],
 "metadata": {
  "kernelspec": {
   "display_name": "Stata",
   "language": "stata",
   "name": "stata"
  },
  "language_info": {
   "codemirror_mode": "stata",
   "file_extension": ".do",
   "mimetype": "text/x-stata",
   "name": "stata",
   "version": "15.1"
  }
 },
 "nbformat": 4,
 "nbformat_minor": 4
}
