{
 "cells": [
  {
   "cell_type": "markdown",
   "metadata": {},
   "source": [
    "# Research Assignment 5 \n",
    "\n",
    "\n",
    "Waleed\n",
    "\n",
    "Republican states and the financialization of higher education\n",
    "\n",
    "4/14/20"
   ]
  },
  {
   "cell_type": "markdown",
   "metadata": {},
   "source": [
    "### 1. Develop hypotheses that approach a nominal variable in your dataset as a dependent variable (DV). [1 pt]\n",
    "\n",
    "* If your nominal variable has more than two categorical variables, such as political party affiliation categories of -- Democrat, Democratic Socialist, Green, Independent, or Republican -- develop hypotheses that treat being or not being in at least one of the categories as a dichotomous binomial dependent variable (DV).\n",
    "\n",
    "* Even if you are not interested in any categorical outcomes for your research project, still develop an hypothesis for at least one nominal variable in your data as a dependent variable. Thinking about potential influences on that variable could help you see if there are intervening relationships or omitted variable biases in your primary outcome of interest.\n",
    "\n",
    "Do the following when you write your hypothesis:\n",
    "\n",
    "    A. Write a separate hypothesis for each dependent variable (DV) you want to analyze.\n",
    "    \n",
    "    I created a dummy variable (republican) for states that are Republican and another dummy variable (four_or_more) for private colleges that offer a four year degree or more.  My DV for this assignment is four_or_more.  I would like to see if the political status of the state, the  has an effect on whether a private college offers a four year degree or not, controlling for online status off the college and whether the college is chain or private equity owned.  I believe that the political party of the state will positively predict whether the college offers four year degrees.\n",
    "    \n",
    "    B. For each dependent variable (DV) state the predicted direction of association between your dependent variable DV and independent variables (IVs) in your model. You can predict no relationship if you do not expect a relationship.\n",
    "    \n",
    "    For the DV of four year college degree or more, I believe that the variables republican, online, and chain will positive associations with the DV, while the last IV private equity will have no effect on the DV.  \n",
    "    \n",
    "    C. Write a couple sentences about the theoretical reasons (prior knowledge / research) for each of your predictions\n",
    "    \n",
    "    According to the literature on the financialization of higher education private for-profit colleges employ strategies to maximize profits.  They therefore would benefit from deregulation and lower tax policies, two features that align with conservative economics, and they therefore will be more prominent in Republican controlled states.  Since undergraduate four year and graduate degrees are more profitable, I believe they are there is greater probability that they will be in Republican states than in non-Republican ones.  My previous work on this data for this class, also supports this theory."
   ]
  },
  {
   "cell_type": "markdown",
   "metadata": {},
   "source": [
    "### 2. Test your hypotheses [3 pts]\n",
    "\n",
    "    A. Create a frequency table for your dependent variable (DV).\n",
    "\n",
    "    B. Estimate an OLS model regressing your dichotomous dependent variable (DV) on your hypothesized independent variables (IVs) and store the results.\n",
    "    \n",
    "    C. Estimate an MLE logistic model regressing your dichotomous dependent variable (DV) on your hypothesized independent variables (IVs) and store the results.\n",
    "    \n",
    "    D. Use esttab to output the coefficients for your OLS and MLE logistic models with html formatting within your Jupyter Notebook.\n",
    "    \n",
    "    E. Use esttab to reoutput your coefficients as odd ratios."
   ]
  },
  {
   "cell_type": "code",
   "execution_count": 1,
   "metadata": {},
   "outputs": [],
   "source": [
    "clear\n",
    "set more off\n",
    "use /Users/waleed/Desktop/gradstats2/week9/forprofits20200317.dta"
   ]
  },
  {
   "cell_type": "code",
   "execution_count": 2,
   "metadata": {},
   "outputs": [
    {
     "name": "stdout",
     "output_type": "stream",
     "text": [
      "\n",
      "four_or_mor |\n",
      "          e |      Freq.     Percent        Cum.\n",
      "------------+-----------------------------------\n",
      "          0 |        744       62.10       62.10\n",
      "          1 |        454       37.90      100.00\n",
      "------------+-----------------------------------\n",
      "      Total |      1,198      100.00\n"
     ]
    }
   ],
   "source": [
    "tab four_or_more"
   ]
  },
  {
   "cell_type": "code",
   "execution_count": 3,
   "metadata": {},
   "outputs": [
    {
     "name": "stdout",
     "output_type": "stream",
     "text": [
      "\n",
      "OR = p / (1-p) = .61030596\n",
      "\n",
      "OR = (fy=1 / fy=0) = .61021505\n"
     ]
    }
   ],
   "source": [
    "display \"OR = p / (1-p) = \" .379 / (1-.379)\n",
    "display \"OR = (fy=1 / fy=0) = \" 454 / 744"
   ]
  },
  {
   "cell_type": "code",
   "execution_count": 4,
   "metadata": {},
   "outputs": [
    {
     "name": "stdout",
     "output_type": "stream",
     "text": [
      "\n",
      "\n",
      "\n",
      "\n",
      "privateequi |\n",
      "         ty |      Freq.     Percent        Cum.\n",
      "------------+-----------------------------------\n",
      "          0 |        679       56.68       56.68\n",
      "          1 |        519       43.32      100.00\n",
      "------------+-----------------------------------\n",
      "      Total |      1,198      100.00\n"
     ]
    }
   ],
   "source": [
    "qui gen privateequity = 0\n",
    "qui replace privateequity = 1 if owner_pe == \"Private equity\"\n",
    "tab privateequity"
   ]
  },
  {
   "cell_type": "code",
   "execution_count": 5,
   "metadata": {},
   "outputs": [
    {
     "name": "stdout",
     "output_type": "stream",
     "text": [
      "\n",
      "Iteration 0:   log likelihood = -794.93906  \n",
      "Iteration 1:   log likelihood = -703.60913  \n",
      "Iteration 2:   log likelihood =  -702.6022  \n",
      "Iteration 3:   log likelihood = -702.60178  \n",
      "Iteration 4:   log likelihood = -702.60178  \n",
      "\n",
      "Logistic regression                             Number of obs     =      1,198\n",
      "                                                LR chi2(4)        =     184.67\n",
      "                                                Prob > chi2       =     0.0000\n",
      "Log likelihood = -702.60178                     Pseudo R2         =     0.1162\n",
      "\n",
      "-------------------------------------------------------------------------------\n",
      " four_or_more |      Coef.   Std. Err.      z    P>|z|     [95% Conf. Interval]\n",
      "--------------+----------------------------------------------------------------\n",
      "   republican |   .5045062   .1337895     3.77   0.000     .2422836    .7667287\n",
      "       online |   2.266868   .5791131     3.91   0.000     1.131827    3.401909\n",
      "        chain |  -.4221351   .3595362    -1.17   0.240    -1.126813     .282543\n",
      "privateequity |  -1.647133   .1458557   -11.29   0.000    -1.933005   -1.361261\n",
      "        _cons |   .1887992   .3672935     0.51   0.607    -.5310827    .9086812\n",
      "-------------------------------------------------------------------------------\n"
     ]
    }
   ],
   "source": [
    "logit four_or_more republican online chain privateequity"
   ]
  },
  {
   "cell_type": "code",
   "execution_count": 6,
   "metadata": {},
   "outputs": [],
   "source": [
    "est clear\n",
    "qui eststo: reg four_or_more republican online chain privateequity\n",
    "qui eststo: logit four_or_more republican online chain privateequity"
   ]
  },
  {
   "cell_type": "code",
   "execution_count": 10,
   "metadata": {},
   "outputs": [
    {
     "data": {
      "text/html": [
       "\n",
       "<table border=\"0\" width=\"*\">\n",
       "<caption>unexpontiated coefficients</caption>\n",
       "<tr><td colspan=5><hr></td></tr>\n",
       "<tr><td>            </td><td>         (1)</td><td>   </td><td>         (2)</td><td>   </td></tr>\n",
       "<tr><td>            </td><td>         OLS</td><td>   </td><td>MLE / logistic</td><td>   </td></tr>\n",
       "<tr><td colspan=5><hr></td></tr>\n",
       "<tr><td>main        </td><td>            </td><td>   </td><td>            </td><td>   </td></tr>\n",
       "<tr><td>republican  </td><td>        0.10</td><td>***</td><td>        0.50</td><td>***</td></tr>\n",
       "<tr><td>            </td><td>      (0.03)</td><td>   </td><td>      (0.13)</td><td>   </td></tr>\n",
       "<tr><td>online      </td><td>        0.42</td><td>***</td><td>        2.27</td><td>***</td></tr>\n",
       "<tr><td>            </td><td>      (0.09)</td><td>   </td><td>      (0.58)</td><td>   </td></tr>\n",
       "<tr><td>chain       </td><td>       -0.08</td><td>   </td><td>       -0.42</td><td>   </td></tr>\n",
       "<tr><td>            </td><td>      (0.07)</td><td>   </td><td>      (0.36)</td><td>   </td></tr>\n",
       "<tr><td>privateequity</td><td>       -0.34</td><td>***</td><td>       -1.65</td><td>***</td></tr>\n",
       "<tr><td>            </td><td>      (0.03)</td><td>   </td><td>      (0.15)</td><td>   </td></tr>\n",
       "<tr><td>_cons       </td><td>        0.54</td><td>***</td><td>        0.19</td><td>   </td></tr>\n",
       "<tr><td>            </td><td>      (0.07)</td><td>   </td><td>      (0.37)</td><td>   </td></tr>\n",
       "<tr><td colspan=5><hr></td></tr>\n",
       "<tr><td><i>N</i>    </td><td>        1198</td><td>   </td><td>        1198</td><td>   </td></tr>\n",
       "<tr><td colspan=5><hr></td></tr>\n",
       "<tr><td colspan=5>\n",
       "^ p<.1, * p<.05, ** p<.01, *** p<.001\n",
       "</td></tr>\n",
       "</table>\n",
       "\n"
      ],
      "text/plain": [
       "This front-end or document format cannot display HTML"
      ]
     },
     "metadata": {},
     "output_type": "display_data"
    }
   ],
   "source": [
    "%html\n",
    "esttab ///\n",
    ", cells(b(star fmt(2)) se(fmt(2) par)) stardetach  ///\n",
    "legend starlevels(^ .1 * .05 ** .01 *** .001) html ///\n",
    "mlabels(\"OLS\" \"MLE / logistic\") title(\"unexpontiated coefficients\") ///\n",
    "collabels(none)"
   ]
  },
  {
   "cell_type": "code",
   "execution_count": 11,
   "metadata": {},
   "outputs": [
    {
     "data": {
      "text/html": [
       "\n",
       "<table border=\"0\" width=\"*\">\n",
       "<caption>Odds Ratios</caption>\n",
       "<tr><td colspan=5><hr></td></tr>\n",
       "<tr><td>            </td><td>         (1)</td><td>   </td><td>         (2)</td><td>   </td></tr>\n",
       "<tr><td>            </td><td>         OLS</td><td>   </td><td>MLE / logistic</td><td>   </td></tr>\n",
       "<tr><td colspan=5><hr></td></tr>\n",
       "<tr><td>main        </td><td>            </td><td>   </td><td>            </td><td>   </td></tr>\n",
       "<tr><td>republican  </td><td>        1.11</td><td>***</td><td>        1.66</td><td>***</td></tr>\n",
       "<tr><td>            </td><td>      (0.03)</td><td>   </td><td>      (0.22)</td><td>   </td></tr>\n",
       "<tr><td>online      </td><td>        1.52</td><td>***</td><td>        9.65</td><td>***</td></tr>\n",
       "<tr><td>            </td><td>      (0.13)</td><td>   </td><td>      (5.59)</td><td>   </td></tr>\n",
       "<tr><td>chain       </td><td>        0.92</td><td>   </td><td>        0.66</td><td>   </td></tr>\n",
       "<tr><td>            </td><td>      (0.06)</td><td>   </td><td>      (0.24)</td><td>   </td></tr>\n",
       "<tr><td>privateequity</td><td>        0.71</td><td>***</td><td>        0.19</td><td>***</td></tr>\n",
       "<tr><td>            </td><td>      (0.02)</td><td>   </td><td>      (0.03)</td><td>   </td></tr>\n",
       "<tr><td colspan=5><hr></td></tr>\n",
       "<tr><td><i>N</i>    </td><td>        1198</td><td>   </td><td>        1198</td><td>   </td></tr>\n",
       "<tr><td colspan=5><hr></td></tr>\n",
       "<tr><td colspan=5>\n",
       "Exponentiated coefficients\n",
       "<br />^ p<.1, * p<.05, ** p<.01, *** p<.001\n",
       "</td></tr>\n",
       "</table>\n",
       "\n"
      ],
      "text/plain": [
       "This front-end or document format cannot display HTML"
      ]
     },
     "metadata": {},
     "output_type": "display_data"
    }
   ],
   "source": [
    "%html\n",
    "\n",
    "esttab ///\n",
    ", cells(b(star fmt(2)) se(fmt(2) par)) stardetach  ///\n",
    "\tlegend starlevels(^ .1 * .05 ** .01 *** .001) html ///\n",
    "mlabels(\"OLS\" \"MLE / logistic\") title(\"Odds Ratios\") ///\n",
    "collabels(none) eform"
   ]
  },
  {
   "cell_type": "markdown",
   "metadata": {},
   "source": [
    "### 3. Interpret your results [1 pt]\n",
    "\n",
    "Write a couple sentences answering each of the following questions:\n",
    "\n",
    "    A. How would you interpret the relationship between your dependent variable(s) (DVs) and independent variables (IVs) based on the odds ratios for you MLE logistic model?\n",
    "\n",
    "According to the MLE model the odds that a college that offers a 4 year degree or more is 1.66 times more likely to be in a Republican state, 9.65 times more likely to be an online program, .66 times less likely to be from a chain school, and .19 times less likely to be owned by private equity.\n",
    "\n",
    "    B. Do the overall estimates support or contradict your hypotheses? Why?\n",
    "    \n",
    "    My overall hypothesis about the positive association between Republican states and online schools, and private colleges with a four year degree or more is supported.  However I was incorrect about the relationship between chain schools and private equity owned schools.  The reason why chain schools may be less likeley to provide four year undergraduate and graduate degrees is because they would like to have a more positive public image due to their widely known status as chain schools.  Although they may still be exploitive, a negative reputation would hurt their overall business.  If offering 4 year degrees or more would hurt their reputation because of the severity in the amount of exploitation, it is not surprising that these chain colleges would prefer not to offer those degrees.  Private equity schools, because they do not have the type of funds and investments as publicly traded schools, may simply not have the resources to offer four year degrees or higher, which is why we see a negative correlation.  \n",
    "    \n",
    "    C. Is there anything suprising in your model estimates? Why?\n",
    "    \n",
    "    I was surprised by the odd ratio for online programs in relation to the four year degrees or higher.  The value was 9.65 which was unexpected.  I believe perhaps there is a market for individuals who want to specifically attain Bachelors and Masters degrees online, but cannot attend in person schools due to their social circumstances, such as taking care of children or working full-time to support themselves or their families.  If this is the case this would explain why we see such a high odds ratio.  \n",
    "    \n",
    "    D. How do the OLS coefficients and their standard errors compare to the MLE estimates? Are the coefficients and standard errors larger or smaller?\n",
    "    \n",
    "    The only significant differents in the coefficients and odds ratios between the OLS model and the MLE estimate is with online status.  The OLS odds are 1.52 whereas the odds in the MLEa are 9.65.  The standard errors in the MLE model are larger."
   ]
  },
  {
   "cell_type": "code",
   "execution_count": null,
   "metadata": {},
   "outputs": [],
   "source": []
  }
 ],
 "metadata": {
  "kernelspec": {
   "display_name": "Stata",
   "language": "stata",
   "name": "stata"
  },
  "language_info": {
   "codemirror_mode": "stata",
   "file_extension": ".do",
   "mimetype": "text/x-stata",
   "name": "stata",
   "version": "15.1"
  }
 },
 "nbformat": 4,
 "nbformat_minor": 4
}
